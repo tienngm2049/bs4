{
 "cells": [
  {
   "cell_type": "code",
   "execution_count": 60,
   "id": "be4b7d8a",
   "metadata": {},
   "outputs": [],
   "source": [
    "import requests\n",
    "from bs4 import BeautifulSoup\n",
    "import csv\n",
    "import pandas as pd"
   ]
  },
  {
   "cell_type": "code",
   "execution_count": 65,
   "id": "71df1516-3adf-4a9f-9fb2-8d18017da4c9",
   "metadata": {},
   "outputs": [
    {
     "name": "stdout",
     "output_type": "stream",
     "text": [
      "Data has been scraped and saved to database.csv.\n"
     ]
    }
   ],
   "source": [
    "# List of Wikipedia URLs to scrape\n",
    "url_lists = [\n",
    "    \"https://en.wikipedia.org/wiki/List_of_Nintendo_Switch_games_(0%E2%80%939_and_A)\",\n",
    "    \"https://en.wikipedia.org/wiki/List_of_Nintendo_Switch_games_(B)\",\n",
    "    \"https://en.wikipedia.org/wiki/List_of_Nintendo_Switch_games_(C%E2%80%93G)\",\n",
    "    \"https://en.wikipedia.org/wiki/List_of_Nintendo_Switch_games_(H%E2%80%93P)\",\n",
    "    \"https://en.wikipedia.org/wiki/List_of_Nintendo_Switch_games_(Q%E2%80%93Z)\"\n",
    "]\n",
    "\n",
    "# Create a CSV file for writing\n",
    "with open(\"database.csv\", \"w\", newline=\"\\n\", encoding=\"utf-8\") as file:\n",
    "    writer = csv.writer(file)\n",
    "\n",
    "    # Write the header row to the CSV file\n",
    "    writer.writerow([\"Title\", \"Developer(s)\", \"Publisher(s)\", \"Release date\", \"Ref.\"])\n",
    "\n",
    "    # Iterate over the URLs and scrape data\n",
    "    for url in url_lists:\n",
    "        response = requests.get(url)\n",
    "        soup = BeautifulSoup(response.text, \"lxml\")\n",
    "        table = soup.find(\"table\", class_=\"wikitable\")\n",
    "\n",
    "        # Find all table rows except the header\n",
    "        table_rows = table.find_all(\"tr\")[1:]\n",
    "\n",
    "        # Extract and write data to the CSV file\n",
    "        for row in table_rows:\n",
    "            columns = row.find_all(\"td\")\n",
    "            title = row.th.text.strip()\n",
    "            developer = columns[0].get_text().strip()\n",
    "            publisher = columns[1].get_text().strip()\n",
    "            release_date = columns[2].get_text().strip()\n",
    "            \n",
    "            # Check if there is a \"Ref.\" column\n",
    "            if len(columns) >= 4:\n",
    "                ref = columns[3].get_text().strip()\n",
    "            else:\n",
    "                ref = \"\"\n",
    "\n",
    "            # Write the row to the CSV file\n",
    "            writer.writerow([title, developer, publisher, release_date, ref])\n",
    "\n",
    "print(\"Data has been scraped and saved to database.csv.\")"
   ]
  },
  {
   "cell_type": "code",
   "execution_count": 98,
   "id": "abd8054d",
   "metadata": {},
   "outputs": [
    {
     "name": "stdout",
     "output_type": "stream",
     "text": [
      "(4525, 4)\n"
     ]
    },
    {
     "data": {
      "text/html": [
       "<div>\n",
       "<style scoped>\n",
       "    .dataframe tbody tr th:only-of-type {\n",
       "        vertical-align: middle;\n",
       "    }\n",
       "\n",
       "    .dataframe tbody tr th {\n",
       "        vertical-align: top;\n",
       "    }\n",
       "\n",
       "    .dataframe thead th {\n",
       "        text-align: right;\n",
       "    }\n",
       "</style>\n",
       "<table border=\"1\" class=\"dataframe\">\n",
       "  <thead>\n",
       "    <tr style=\"text-align: right;\">\n",
       "      <th></th>\n",
       "      <th>Title</th>\n",
       "      <th>Developer(s)</th>\n",
       "      <th>Publisher(s)</th>\n",
       "      <th>Release date</th>\n",
       "    </tr>\n",
       "  </thead>\n",
       "  <tbody>\n",
       "    <tr>\n",
       "      <th>0</th>\n",
       "      <td>0 Degrees</td>\n",
       "      <td>EastAsiaSoft, Nerd Games, Kiddo Dev</td>\n",
       "      <td>EastAsiaSoft</td>\n",
       "      <td>May 19, 2021</td>\n",
       "    </tr>\n",
       "    <tr>\n",
       "      <th>1</th>\n",
       "      <td>0x0 Minimalist</td>\n",
       "      <td>Indie Team</td>\n",
       "      <td>GAME NACIONAL</td>\n",
       "      <td>December 4, 2021</td>\n",
       "    </tr>\n",
       "    <tr>\n",
       "      <th>2</th>\n",
       "      <td>#1 Anagrams</td>\n",
       "      <td>Eclipse Games</td>\n",
       "      <td>Eclipse Games</td>\n",
       "      <td>May 14, 2021</td>\n",
       "    </tr>\n",
       "    <tr>\n",
       "      <th>3</th>\n",
       "      <td>#1 Crosswords</td>\n",
       "      <td>Eclipse Games</td>\n",
       "      <td>Eclipse Games</td>\n",
       "      <td>February 12, 2021</td>\n",
       "    </tr>\n",
       "    <tr>\n",
       "      <th>4</th>\n",
       "      <td>#1 Sudokus</td>\n",
       "      <td>Eclipse Games</td>\n",
       "      <td>Eclipse Games</td>\n",
       "      <td>November 25, 2021</td>\n",
       "    </tr>\n",
       "  </tbody>\n",
       "</table>\n",
       "</div>"
      ],
      "text/plain": [
       "            Title                         Developer(s)   Publisher(s)  \\\n",
       "0       0 Degrees  EastAsiaSoft, Nerd Games, Kiddo Dev   EastAsiaSoft   \n",
       "1  0x0 Minimalist                           Indie Team  GAME NACIONAL   \n",
       "2     #1 Anagrams                        Eclipse Games  Eclipse Games   \n",
       "3   #1 Crosswords                        Eclipse Games  Eclipse Games   \n",
       "4      #1 Sudokus                        Eclipse Games  Eclipse Games   \n",
       "\n",
       "        Release date  \n",
       "0       May 19, 2021  \n",
       "1   December 4, 2021  \n",
       "2       May 14, 2021  \n",
       "3  February 12, 2021  \n",
       "4  November 25, 2021  "
      ]
     },
     "execution_count": 98,
     "metadata": {},
     "output_type": "execute_result"
    }
   ],
   "source": [
    "df = pd.read_csv(\"database.csv\", sep=',', encoding='utf-8')\n",
    "df = df.iloc[:, :-1]\n",
    "print(df.shape)\n",
    "df.head()"
   ]
  }
 ],
 "metadata": {
  "kernelspec": {
   "display_name": "Python 3 (ipykernel)",
   "language": "python",
   "name": "python3"
  },
  "language_info": {
   "codemirror_mode": {
    "name": "ipython",
    "version": 3
   },
   "file_extension": ".py",
   "mimetype": "text/x-python",
   "name": "python",
   "nbconvert_exporter": "python",
   "pygments_lexer": "ipython3",
   "version": "3.11.5"
  }
 },
 "nbformat": 4,
 "nbformat_minor": 5
}
